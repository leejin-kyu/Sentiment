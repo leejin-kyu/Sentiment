{
 "cells": [
  {
   "cell_type": "markdown",
   "metadata": {},
   "source": [
    "### KNU 한국어 감성사전 요약\n",
    "\n",
    "- **작성자 및 소속**: 온병원, 박상민, 나철원 / 군산대학교 소프트웨어융합공학과 Data Intelligence Lab\n",
    "- **작성일**: 2018.05.11\n",
    "- **홈페이지**: [Data Intelligence Lab](http://dilab.kunsan.ac.kr/)\n",
    "\n",
    "#### 개요\n",
    "\n",
    "- **목적**: 인간의 기본적인 감정 표현을 나타내는 긍정과 부정어로 구성. 특정 도메인(음식, 여행지 등)이 아닌 보편적인 감성 표현에 초점.\n",
    "- **구성원리**: 국립국어원 표준국어대사전, 김은영의 연구, SentiWordNet, SenticNet-5.0, 온라인 축약어 및 이모티콘에서 긍부정어 추출.\n",
    "- **콘텐츠**: 총 14,843개의 단어와 문구에 대한 감성 분류 및 강도 측정.\n",
    "\n",
    "#### 특징\n",
    "\n",
    "- **다양성**: 1-gram부터 n-gram, 축약어, 이모티콘까지 다양한 형태의 긍부정어 포함.\n",
    "- **보편성**: 모든 도메인에 적용 가능한 보편적 긍부정어 사용.\n",
    "\n",
    "#### 개발 방법\n",
    "\n",
    "- **기술**: Bi-LSTM 딥 러닝 모델을 사용하여 표준국어대사전의 단어 뜻풀이를 긍정, 중립, 부정으로 분류.\n",
    "- **평가**: 최소 3명의 평가자가 리커트 척도를 사용하여 감성을 판별, 이의가 있을 시 토론을 통해 합의.\n",
    "\n",
    "#### 통계\n",
    "\n",
    "- **단어 분류**:\n",
    "  - 1-gram 긍부정어: 6,223\n",
    "  - 2-gram 긍부정어: 7,861\n",
    "  - 긍부정 어구, 문형, 축약어, 이모티콘 등 포함\n",
    "- **감성 분포**:\n",
    "  - 매우 긍정: 2,597\n",
    "  - 긍정: 2,266\n",
    "  - 중립: 154\n",
    "  - 부정: 5,029\n",
    "  - 매우 부정: 4,797\n",
    "\n",
    "#### 참고문헌\n",
    "\n",
    "- 표준국어대사전, 긍부정 축약어, 이모티콘, SentiWordNet, SenticNet, 감정단어사전, 김은영의 연구, 트위터 형태소 분석기 등.\n"
   ]
  },
  {
   "cell_type": "code",
   "execution_count": null,
   "metadata": {},
   "outputs": [],
   "source": [
    "# 필요한 라이브러리를 불러옵니다.\n",
    "import pandas as pd  # 데이터 처리를 위한 pandas 라이브러리\n",
    "from konlpy.tag import Okt  # 한국어 자연어 처리를 위한 konlpy의 Okt 모듈\n",
    "# Okt 객체를 생성합니다. 한국어 텍스트를 형태소 단위로 분석할 수 있게 해줍니다.\n",
    "okt = Okt()\n",
    "# 엑셀 파일로부터 데이터를 읽어와 DataFrame으로 저장합니다.\n",
    "data = pd.read_excel('빅카인즈_인공지능_뉴스.xlsx')\n",
    "# 뉴스 제목과 본문을 합쳐서 새로운 컬럼 '제목_본문'을 생성합니다.\n",
    "data['제목_본문'] = data['제목'] + data['본문']\n",
    "# 데이터 전처리 함수입니다. 텍스트에서 형용사만을 추출하여 반환합니다.\n",
    "def preprocess_data(text):\n",
    "    morphs = okt.pos(text)  # 텍스트를 형태소 분석합니다.\n",
    "    words = [word for word, tag in morphs if tag == 'Adjective' and len(word) > 1]  # 형용사만 추출합니다.\n",
    "    return ' '.join(words)  # 추출된 형용사들을 공백으로 구분하여 하나의 문자열로 반환합니다.\n",
    "# 모든 뉴스 데이터에 대해 위의 전처리 함수를 적용합니다.\n",
    "data['preprocessing'] = data['제목_본문'].astype('str').apply(preprocess_data)\n",
    "# 감성 사전을 로딩합니다. 각 단어의 긍정, 부정, 중립 감성 점수가 포함되어 있습니다.\n",
    "senti_dict = pd.read_csv('SentiWord_dict.csv', encoding='cp949')\n",
    "# 단어의 감성 점수를 반환하는 함수입니다.\n",
    "def get_sentiment(word):\n",
    "    matched_words = senti_dict[senti_dict['word'] == word]  # 사전에서 단어를 찾습니다.\n",
    "    if matched_words.empty:  # 사전에 단어가 없으면 None을 반환합니다.\n",
    "        return None\n",
    "    return matched_words.iloc[0]['polarity']  # 단어의 감성 점수(polarity)를 반환합니다.\n",
    "# 감성 분석을 실행하고 결과를 저장합니다.\n",
    "results = []  # 결과를 저장할 리스트\n",
    "for idx, row in data.iterrows():  # 데이터프레임의 모든 행에 대해 반복\n",
    "    for word in row['preprocessing'].split():  # 전처리된 텍스트를 공백 기준으로 분리하여 각 단어에 대해 반복\n",
    "        polarity = get_sentiment(word)  # 단어의 감성 점수를 얻습니다.\n",
    "        if polarity is not None:  # 감성 사전에 단어가 있으면 결과 리스트에 추가\n",
    "            results.append({\n",
    "                'document_id': idx,  # 문서 ID\n",
    "                'preprocessing': row['preprocessing'],  # 전처리된 텍스트\n",
    "                'word': word,  # 단어\n",
    "                'polarity': polarity  # 단어의 감성 점수\n",
    "            })\n",
    "\n",
    "# 결과를 DataFrame으로 변환하고 CSV 파일로 저장합니다.\n",
    "results_df = pd.DataFrame(results)\n",
    "results_df.to_csv('sentiment_analysis_results.csv', index=False, encoding='utf-8')\n"
   ]
  },
  {
   "cell_type": "code",
   "execution_count": null,
   "metadata": {},
   "outputs": [
    {
     "name": "stdout",
     "output_type": "stream",
     "text": [
      "긍정단어개수: 1309\n",
      "부정단어개수: 470\n",
      "72.68184342032204\n",
      "26.096612992781786\n"
     ]
    }
   ],
   "source": [
    "# 전체 단어 수, 긍정적인 단어 수, 부정적인 단어 수를 계산합니다.\n",
    "total_words = len(results_df)  # 전체 결과의 수를 세어서 저장합니다.\n",
    "pos_count = len(results_df[results_df['polarity'] > 0])  # 긍정적인 결과만 필터링하고 그 수를 세어서 저장합니다.\n",
    "neg_count = len(results_df[results_df['polarity'] < 0])  # 부정적인 결과만 필터링하고 그 수를 세어서 저장합니다.\n",
    "neutral_count = len(results_df[results_df['polarity'] == 0])  # 중립적인 결과만 필터링하고 그 수를 세어서 저장합니다.\n",
    "\n",
    "print(\"긍정단어개수:\",pos_count)\n",
    "print(\"부정단어개수:\",neg_count)\n",
    "print(\"중립단어개수:\",neutral_count)\n",
    "# 긍정적인 단어와 부정적인 단어의 비율을 계산합니다.\n",
    "pos_proportion = (pos_count / total_words) * 100 if total_words else 0  # 긍정적인 단어의 비율을 계산합니다.\n",
    "neg_proportion = (neg_count / total_words) * 100 if total_words else 0  # 부정적인 단어의 비율을 계산합니다.\n",
    "neutral_proportion = (neutral_count / total_words) * 100 if total_words else 0  # 중립적인 단어의 비율을 계산합니다.\n",
    "\n",
    "print(pos_proportion)\n",
    "print(neg_proportion)\n",
    "print(neutral_proportion)\n"
   ]
  }
 ],
 "metadata": {
  "kernelspec": {
   "display_name": "research",
   "language": "python",
   "name": "python3"
  },
  "language_info": {
   "codemirror_mode": {
    "name": "ipython",
    "version": 3
   },
   "file_extension": ".py",
   "mimetype": "text/x-python",
   "name": "python",
   "nbconvert_exporter": "python",
   "pygments_lexer": "ipython3",
   "version": "3.11.5"
  }
 },
 "nbformat": 4,
 "nbformat_minor": 2
}
